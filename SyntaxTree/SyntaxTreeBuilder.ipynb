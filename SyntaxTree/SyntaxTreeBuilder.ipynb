{
 "cells": [
  {
   "cell_type": "markdown",
   "metadata": {},
   "source": [
    "# Sytax Tree Builder\n",
    "### This is an notebook to research all properties of syntax trees, including:\n",
    "- Finding association rules\n",
    "\n",
    "- Filling in the blank on missing word classes\n",
    "\n",
    "- Building trees"
   ]
  },
  {
   "cell_type": "code",
   "execution_count": 28,
   "metadata": {},
   "outputs": [],
   "source": [
    "import re\n",
    "import nltk\n",
    "import math\n",
    "import requests\n",
    "import ast\n",
    "from bs4 import BeautifulSoup\n",
    "from PyDictionary import PyDictionary"
   ]
  },
  {
   "cell_type": "markdown",
   "metadata": {},
   "source": [
    "# Pre-X-Bar Theory Implementation\n",
    "## This was made for the simpler units of LING486"
   ]
  },
  {
   "cell_type": "code",
   "execution_count": null,
   "metadata": {},
   "outputs": [],
   "source": [
    "x = 'The big man from n loving bagels with n'\n",
    "#'The cat killed the dirty dog in the house because he threw nasty bread by the fire'\n",
    "#\"in the smelly and wholesome and brilliant and bubbly couch\"\n",
    "#\"the brilliant and bubbly and whimsical ball\"\n",
    "p = nltk.parse.api.ParserI\n",
    "_d=PyDictionary()\n",
    "\n",
    "#Array forces ordering\n",
    "syntaxRulesReverse = [\n",
    "    ['(adjconj)+adj', 'adj'], \n",
    "    ['(advP)*adj', 'ajP'], \n",
    "    ['(advP)?adv', 'avP'], \n",
    "    ['PnP', 'pP'],\n",
    "    ['(D)?(ajP)*N(pP)*(CP)?', 'nP'], \n",
    "    ['V(nP)+(pP)*', 'vP'], \n",
    "    ['(Nconj)+N', 'N'],\n",
    "    ['(nPconj)+nP', 'nP'],\n",
    "    ['nPvP', 'tP'],\n",
    "    ['(tPconj)+tP', 'tP']]"
   ]
  },
  {
   "cell_type": "code",
   "execution_count": null,
   "metadata": {},
   "outputs": [],
   "source": [
    "_x = x.split()\n",
    "_xd = \"\"\n",
    "for token in _x:\n",
    "    _xd += getClass(token)\n",
    "_xd"
   ]
  },
  {
   "cell_type": "code",
   "execution_count": null,
   "metadata": {},
   "outputs": [],
   "source": [
    "tree = [_xd]\n",
    "diagram = []\n",
    "while needsParsing(tree[-1]):\n",
    "    level = \"\"\n",
    "    dlvl = []\n",
    "    for rule in syntaxRulesReverse:\n",
    "        m = re.search(rule[0], tree[-1])\n",
    "        if m:\n",
    "            level = tree[-1][0:m.start()] + rule[1] + tree[-1][m.end():]\n",
    "            tree += [level]\n",
    "            dlvl += [rule[1], tree[-1][m.start():m.end()], m.start(), m.end()]\n",
    "            diagram += [dlvl]\n",
    "            break\n",
    "    if level == \"\":\n",
    "        break\n",
    "    print('.', end='')\n",
    "[print(_, end='\\n|\\n') for _ in tree];None"
   ]
  },
  {
   "cell_type": "code",
   "execution_count": null,
   "metadata": {},
   "outputs": [],
   "source": [
    "_search = re.search(tree[-2], syntaxRulesReverse[-1][0])\n",
    "tree[-2][0:_search.start()] + syntaxRulesReverse[-1][1] + tree[-2][_search.end():]"
   ]
  },
  {
   "cell_type": "code",
   "execution_count": null,
   "metadata": {},
   "outputs": [],
   "source": [
    "def needsParsing(x):\n",
    "    if x != 'nP' and x != 'tP' and x != 'vP' and x != 'CP' and x!= 'pP':\n",
    "        return True\n",
    "    return False\n",
    "def getClass(x):\n",
    "    wC = 'X'\n",
    "    #Meaning -- regular\n",
    "    word = _d.meaning(x)\n",
    "    if word is not None:\n",
    "        wC = list(word.keys())[0]\n",
    "    \n",
    "    #Meaning -- google\n",
    "    word = _d.googlemeaning(x)\n",
    "    if word is not None:\n",
    "        wC =  word.split(':')[1].split()[0]\n",
    "\n",
    "    if wC.lower() == 'noun' or wC.lower() == 'pronoun':\n",
    "        return 'N'\n",
    "    elif wC.lower() == 'verb':\n",
    "        return 'V'\n",
    "    elif wC.lower() == 'adjective':\n",
    "        return 'adj'\n",
    "    elif wC.lower() == 'adverb':\n",
    "        return 'adv'\n",
    "    elif wC.lower() == 'determiner':\n",
    "        return 'D'\n",
    "    elif wC.lower() == 'preposition':\n",
    "        return 'P'\n",
    "    elif wC.lower() == 'conjunction':\n",
    "        return 'conj'\n",
    "        \n",
    "    return wC"
   ]
  },
  {
   "cell_type": "markdown",
   "metadata": {},
   "source": [
    "# X-Bar and Array Tree Data Structures"
   ]
  },
  {
   "cell_type": "code",
   "execution_count": null,
   "metadata": {},
   "outputs": [],
   "source": [
    "### Getting parts of speach using wordsmyth\n",
    "word = \"cover\"\n",
    "url = \"https://www.wordsmyth.net/?level=3&ent={}\".format(word)\n",
    "s = requests.Session()\n",
    "res = s.get(url, verify = False)\n",
    "soup = BeautifulSoup(res.text, 'html5lib')\n",
    "soup.findAll(\"table\", {\"class\": \"maintable\"})[0].find_all('td', {\"class\": \"data\"})[0].a.text"
   ]
  },
  {
   "cell_type": "code",
   "execution_count": 30,
   "metadata": {},
   "outputs": [],
   "source": [
    "def saveDict(d, filename):\n",
    "    sD = str(d)\n",
    "    f = open(filename, 'w')\n",
    "    f.write(sD)\n",
    "    f.close()\n",
    "    \n",
    "def loadDict(filename):\n",
    "    f = open(filename, 'r')\n",
    "    sD = f.read()\n",
    "    f.close()\n",
    "    d = ast.literal_eval(sD)\n",
    "    return d"
   ]
  },
  {
   "cell_type": "code",
   "execution_count": 34,
   "metadata": {},
   "outputs": [],
   "source": [
    "#temporary static dict\n",
    "'''\n",
    "localBank = {'is': 'v',\n",
    "             'need' : 'v',\n",
    "             'needs' : 'v',\n",
    "             'do': 'v',\n",
    "             'does': 'v',\n",
    "             'I' : 'pn',\n",
    "             'a' : 'd',\n",
    "             'the' : 'd',\n",
    "            #homework specific - no working suplementary dict\n",
    "            'well': 'adj',\n",
    "            'plays': 'v'}\n",
    "'''\n",
    "\n",
    "localBank = loadDict('localBank.dat')"
   ]
  },
  {
   "cell_type": "code",
   "execution_count": 40,
   "metadata": {},
   "outputs": [],
   "source": [
    "saveDict(localBank, 'localBank.dat')"
   ]
  },
  {
   "cell_type": "code",
   "execution_count": 38,
   "metadata": {},
   "outputs": [],
   "source": [
    "def getLikelyClass(word, convert = False):\n",
    "    if word in localBank:\n",
    "        return localBank[word]\n",
    "    url = \"https://www.wordsmyth.net/?level=3&ent={}\".format(word)\n",
    "    s = requests.Session()\n",
    "    res = s.get(url, verify = False)\n",
    "    soup = BeautifulSoup(res.text, 'html5lib')\n",
    "    txt = soup.findAll(\"table\", {\"class\": \"maintable\"})[0].find_all('td', {\"class\": \"data\"})[0].a.text\n",
    "    switch = {\n",
    "        'determiner'          :        'd',\n",
    "        'noun'                :        'n',\n",
    "        'pronoun'             :        'pn',\n",
    "        'preposition'         :        'p',\n",
    "        'transitive verb'     :        'v', #vt\n",
    "        'intransitive verb'  :         'v', #vi\n",
    "        'ditransitive verb'  :         'v', #vd\n",
    "        'adjective'           :        'adj',\n",
    "        'adverb'              :        'adv',\n",
    "        'conjunction'         :        'conj',\n",
    "    }\n",
    "    if convert and txt in switch:\n",
    "        localBank[word] = switch[txt]\n",
    "        return switch[txt]\n",
    "    return txt\n",
    "\n",
    "def defineLikelyClass(word, wordClass, force=False):\n",
    "    if word not in localBank or force:\n",
    "        localBank[word] = wordClass\n",
    "        return True\n",
    "    return False"
   ]
  },
  {
   "cell_type": "code",
   "execution_count": 39,
   "metadata": {},
   "outputs": [
    {
     "data": {
      "text/plain": [
       "'d'"
      ]
     },
     "execution_count": 39,
     "metadata": {},
     "output_type": "execute_result"
    }
   ],
   "source": [
    "defineLikelyClass('\\'s', 'd', True)\n",
    "getLikelyClass('\\'s', True)"
   ]
  },
  {
   "cell_type": "code",
   "execution_count": 48,
   "metadata": {},
   "outputs": [],
   "source": [
    "#For machine gunning words into the local word bank!\n",
    "x = 'The dog is in the house'.split()\n",
    "y = 'd n v p d n'.split()\n",
    "for i in range(len(x)):\n",
    "    defineLikelyClass(x[i], y[i], True)"
   ]
  },
  {
   "cell_type": "code",
   "execution_count": 60,
   "metadata": {},
   "outputs": [
    {
     "name": "stdout",
     "output_type": "stream",
     "text": [
      "[['d', ['The']], ['n', ['dog']], ['v', ['is']], ['p', ['in']], ['d', ['the']], ['n', ['house']]]\n"
     ]
    }
   ],
   "source": [
    "sentence = \"The dog is in the house\"\n",
    "#\"The coach will be using a new approach\" #<-- HARD\n",
    "\n",
    "#This will build all of the possible base cases for perspective\n",
    "#based on research forensics for each given word\n",
    "def constructPerspective(sentence):\n",
    "    perspective = []\n",
    "    tokens = [[_, getLikelyClass(_.lower(), True)] for _ in sentence.split(\" \")]\n",
    "    for token in tokens:\n",
    "        perspective.append([token[1], [token[0]]])\n",
    "    return perspective\n",
    "x = constructPerspective(sentence)\n",
    "print(x)"
   ]
  },
  {
   "cell_type": "code",
   "execution_count": 45,
   "metadata": {},
   "outputs": [],
   "source": [
    "#determines if the given rule is at the top of a given tree\n",
    "#Strict disallows the tree from having different neighbors at the top\n",
    "def inTreeTop(tree, rule, strict = False):\n",
    "    retVal = False\n",
    "    strictVal = True\n",
    "    for topNode in tree:\n",
    "        if topNode[0] == rule:\n",
    "            retVal = True\n",
    "        else:\n",
    "            strictVal = False\n",
    "    if strict:\n",
    "        return (retVal, strictVal)\n",
    "    return retVal\n",
    "def pruneTrees(trees):\n",
    "    pruned = []\n",
    "    for tree in trees:\n",
    "        finishedVal = inTreeTop(tree, \"cP\", strict = True)\n",
    "        if finishedVal[0] and finishedVal[1]:\n",
    "            pruned.append(tree)\n",
    "    return pruned"
   ]
  },
  {
   "cell_type": "code",
   "execution_count": 56,
   "metadata": {},
   "outputs": [],
   "source": [
    "#Debugging handling, small but out of the tree builder to keep things clean\n",
    "def dprint(statement, currentLevel, evalLevel):\n",
    "    if currentLevel >= evalLevel or currentLevel == -1:\n",
    "        print(statement)"
   ]
  },
  {
   "cell_type": "code",
   "execution_count": 103,
   "metadata": {},
   "outputs": [],
   "source": [
    "#I am Michael, I love Raquel, I eat protien, etc...\n",
    "rules = {\n",
    "    \"vP\" : [[\"vbar\"], [\"vP\", \"conj\", \"vP\"]],\n",
    "    \"vbar\" : [[\"vbar\", \"pP\"], [\"vbar\", \"advP\"], [\"advP\", \"vbar\"], [\"vbar\", \"dP\"], [\"v\"], [\"v\", \"dP\"], [\"v\", \"adjP\"], [\"v\", \"vP\"]],\n",
    "    \"adjP\" : [[\"adjbar\"]],\n",
    "    \"adjbar\" : [[\"adj\"], [\"advP\", \"adjbar\"]],\n",
    "    \"advP\" : [[\"advbar\"]],\n",
    "    \"advbar\" : [[\"adv\"], [\"advP\", \"advbar\"]],\n",
    "    \"nbar\": [[\"adjP\", \"nbar\"], [\"nbar\", \"pP\"], [\"n\"], [\"n\", \"pP\"], [\"pn\"]],\n",
    "    \"nP\" : [[\"nbar\"], [\"nP\", \"conj\", \"nP\"]],\n",
    "    \"dbar\" : [[\"d\", \"nP\"], [\"nP\"]],\n",
    "    \"dP\" : [[\"dP\", \"dbar\"], [\"dbar\"], [\"dP\", \"conj\", \"dP\"]],\n",
    "    \"pbar\" : [[\"p\", \"dP\"]],\n",
    "    \"pP\" : [[\"pbar\"]],\n",
    "    \"negbar\" : [[\"neg\", \"vP\"]],\n",
    "    \"negP\" : [[\"negbar\"]],\n",
    "    \"t\" : [[\"v\"]],\n",
    "    \"tbar\" : [[\"vP\"], [\"t\", \"vP\"], [\"t\", \"negP\"]],\n",
    "    \"tP\" : [[\"dP\", \"tbar\"], [\"tP\", \"conj\", \"tP\"]],\n",
    "    \"cbar\" : [[\"c\", \"tP\"], [\"tP\"]],\n",
    "    \"cP\" : [[\"cbar\"], [\"cP\", \"conj\", \"cP\"]]\n",
    "}\n",
    "\n",
    "#This is the big boy itself\n",
    "#The rule above define what the builder will try\n",
    "#As of right now, the builder has a few problems\n",
    "#It refuses to accept verb complements\n",
    "#It does not account for null items\n",
    "#As a result it doesn't yet generate movement\n",
    "#\n",
    "#Verboseness is for debugging purposes, it works in levels\n",
    "#0 - Print nothing, smooth, user experience\n",
    "#1 - Prints things like how many trees are being considered in any one permutation of rules\n",
    "#2 - ...\n",
    "#3 - ...\n",
    "#... - ...\n",
    "#-1 - PRINTS. EVERYTHING. Be careful what you wish for!!!\n",
    "def BuildSyntaxTree(x, maxNode = \"cP\", verbose = 0):\n",
    "    #Keep track of where matches for each rule occurs, when creating a new node,\n",
    "    #select the simplest matches first (adjbar before tbar), and the match that occurs later in the tree\n",
    "    mutating = True\n",
    "    \n",
    "    #This is temporary for now -- in the future we will have multiple perspectives, not just one!\n",
    "    perspectives = [x]\n",
    "    #Tag each perspective with an initial ID\n",
    "    for i in range(len(perspectives)):\n",
    "        perspectives[i] = ('{}'.format(i) , perspectives[i])\n",
    "    new_perspectives = []\n",
    "    exhaustive_perspectives = []\n",
    "    #Measures tree formation forward and backward respectively\n",
    "    #Both will (likly) be helpful -- tree formations are *messy*\n",
    "    growthTree, shrinkTree = {}, {}\n",
    "    while mutating:\n",
    "        new_perspectives = []\n",
    "        for _inp in perspectives:\n",
    "            inpID, inp = _inp[0], _inp[1]\n",
    "            matches = {}\n",
    "            for rule, conditionSet in rules.items():    \n",
    "                    for conditions in conditionSet:\n",
    "                        conditionMatch, conditionPosition = 0, 0\n",
    "                        dprint(rule + \" : \" + str(conditions), verbose, 9)\n",
    "                        for i in range(len(inp)):\n",
    "                            node = inp[i]\n",
    "                            if node[0] == conditions[conditionMatch]:\n",
    "                                dprint(rule + \", \" + node[0], verbose, 10)\n",
    "                                if conditionMatch == 0:\n",
    "                                    conditionPosition = i\n",
    "                                conditionMatch += 1\n",
    "                                if conditionMatch == len(conditions):\n",
    "                                    if rule in matches:\n",
    "                                        matches[rule] += [(conditionPosition, conditionPosition + conditionMatch)]\n",
    "                                    else:\n",
    "                                        matches.update({rule:[(conditionPosition, conditionPosition + conditionMatch)]})\n",
    "                                    conditionMatch = 0\n",
    "                            else:\n",
    "                                conditionMatch = 0\n",
    "            #print(\"{} -> {}\".format(inp, matches))\n",
    "            for matchLabel, matchSets in matches.items():\n",
    "                for matchSet in matchSets:\n",
    "                    #print(\"{} :- {}\".format(matchLabel, matchSet))\n",
    "                    subset = inp[matchSet[0]:matchSet[1]]\n",
    "                    _new_perspective = inp[:matchSet[0]] + [[matchLabel, subset]] + inp[matchSet[1]:]\n",
    "                    newID = inpID + \"->\" + matchLabel\n",
    "                    if _new_perspective in exhaustive_perspectives:\n",
    "                        newID = '{}'.format(exhaustive_perspectives.index(_new_perspective))\n",
    "                    else:\n",
    "                        new_perspective = (newID, _new_perspective)\n",
    "                        new_perspectives.append(new_perspective)\n",
    "                        exhaustive_perspectives.append(_new_perspective)\n",
    "                    \n",
    "                    #growthTree\n",
    "                    if inpID in growthTree:\n",
    "                        growthTree[inpID].append(newID)\n",
    "                    else:\n",
    "                        growthTree[inpID] = [newID]\n",
    "                    \n",
    "                    #shrinkTree\n",
    "                    if newID in shrinkTree:\n",
    "                        shrinkTree[newID].append(inpID)\n",
    "                    else:\n",
    "                        shrinkTree[newID] = [inpID]\n",
    "                    \n",
    "                    #if new_perspective not in exhaustive_perspectives: #new_perspectives:\n",
    "                    #    new_perspectives.append(new_perspective)\n",
    "            for perspective in perspectives:\n",
    "                if perspective[1] not in exhaustive_perspectives:\n",
    "                    exhaustive_perspectives.append(perspective[1])\n",
    "                if inTreeTop(perspective[1], maxNode, strict = True) == (True, True) and perspective not in new_perspectives:\n",
    "                    new_perspectives.append(perspective)\n",
    "        #Stops searching\n",
    "        if perspectives == new_perspectives or len(new_perspectives) == 0:\n",
    "            for perspective in perspectives:\n",
    "                growthTree[perspective[0]] = exhaustive_perspectives.index(perspective[1])\n",
    "            mutating = False\n",
    "            break\n",
    "        perspectives = new_perspectives.copy()\n",
    "        dprint(len(perspectives), verbose, 1)\n",
    "    #Returns a tuple of:\n",
    "    #Final list of highest level trees\n",
    "    #All generated trees\n",
    "    #A dictionary denoting tree changes from beginning to end\n",
    "    #A dictionary denoting tree changes from end to beginning\n",
    "    return (perspectives, exhaustive_perspectives, growthTree, shrinkTree)"
   ]
  },
  {
   "cell_type": "code",
   "execution_count": 104,
   "metadata": {},
   "outputs": [
    {
     "name": "stdout",
     "output_type": "stream",
     "text": [
      "4\n",
      "8\n",
      "15\n",
      "26\n",
      "36\n",
      "43\n",
      "48\n",
      "49\n",
      "44\n",
      "36\n",
      "27\n",
      "21\n",
      "16\n",
      "10\n",
      "6\n",
      "4\n",
      "2\n",
      "1\n"
     ]
    }
   ],
   "source": [
    "perspectives = BuildSyntaxTree(constructPerspective(sentence), verbose = 1)"
   ]
  },
  {
   "cell_type": "code",
   "execution_count": 113,
   "metadata": {},
   "outputs": [
    {
     "ename": "KeyError",
     "evalue": "'394'",
     "output_type": "error",
     "traceback": [
      "\u001b[0;31m---------------------------------------------------------------------------\u001b[0m",
      "\u001b[0;31mKeyError\u001b[0m                                  Traceback (most recent call last)",
      "\u001b[0;32m<ipython-input-113-f15b670b5361>\u001b[0m in \u001b[0;36m<module>\u001b[0;34m()\u001b[0m\n\u001b[1;32m      1\u001b[0m \u001b[0mlen\u001b[0m\u001b[0;34m(\u001b[0m\u001b[0mperspectives\u001b[0m\u001b[0;34m[\u001b[0m\u001b[0;36m3\u001b[0m\u001b[0;34m]\u001b[0m\u001b[0;34m)\u001b[0m\u001b[0;34m\u001b[0m\u001b[0m\n\u001b[1;32m      2\u001b[0m \u001b[0mperspectives\u001b[0m\u001b[0;34m[\u001b[0m\u001b[0;36m1\u001b[0m\u001b[0;34m]\u001b[0m\u001b[0;34m.\u001b[0m\u001b[0mindex\u001b[0m\u001b[0;34m(\u001b[0m\u001b[0mperspectives\u001b[0m\u001b[0;34m[\u001b[0m\u001b[0;36m0\u001b[0m\u001b[0;34m]\u001b[0m\u001b[0;34m[\u001b[0m\u001b[0;36m0\u001b[0m\u001b[0;34m]\u001b[0m\u001b[0;34m[\u001b[0m\u001b[0;36m1\u001b[0m\u001b[0;34m]\u001b[0m\u001b[0;34m)\u001b[0m\u001b[0;34m\u001b[0m\u001b[0m\n\u001b[0;32m----> 3\u001b[0;31m \u001b[0mperspectives\u001b[0m\u001b[0;34m[\u001b[0m\u001b[0;36m2\u001b[0m\u001b[0;34m]\u001b[0m\u001b[0;34m[\u001b[0m\u001b[0;34m'394'\u001b[0m\u001b[0;34m]\u001b[0m\u001b[0;34m\u001b[0m\u001b[0m\n\u001b[0m",
      "\u001b[0;31mKeyError\u001b[0m: '394'"
     ]
    }
   ],
   "source": [
    "len(perspectives[3])\n",
    "perspectives[1].index(perspectives[0][0][1])\n",
    "perspectives[2]['394']"
   ]
  },
  {
   "cell_type": "code",
   "execution_count": null,
   "metadata": {},
   "outputs": [],
   "source": [
    "final_perspectives = pruneTrees(perspectives)"
   ]
  },
  {
   "cell_type": "code",
   "execution_count": null,
   "metadata": {},
   "outputs": [],
   "source": [
    "print(\"Trees: {}\".format(len(final_perspectives)))\n",
    "print(treeHeight(final_perspectives[0]))\n",
    "final_perspectives[1]"
   ]
  },
  {
   "cell_type": "code",
   "execution_count": null,
   "metadata": {},
   "outputs": [],
   "source": [
    "latexKeys = {\n",
    "    \"xbar\" : '$\\\\bar{{{}}}$'\n",
    "}\n",
    "\n",
    "def printTree(tree):\n",
    "    if type(tree) == str:\n",
    "        return tree + \" \"\n",
    "    t = tree[0]\n",
    "    if type(t) == str:\n",
    "        return t + \" \"\n",
    "    label = t[0]\n",
    "    if len(label) == 1:\n",
    "        label = label.upper()\n",
    "    ploc = label.find('P')\n",
    "    if ploc > 0:\n",
    "        if len(label[:ploc]) == 1:\n",
    "            label = label.upper()\n",
    "    barloc = label.find('bar')\n",
    "    if barloc > 0:\n",
    "        sublabel = label[:barloc]\n",
    "        if len(sublabel) == 1:\n",
    "            sublabel = sublabel.upper()\n",
    "        label = latexKeys[\"xbar\"].format(sublabel)\n",
    "    if len(t[1]) == 1:\n",
    "        return '[.{} {}]'.format(label, printTree(t[1]))\n",
    "    return '[.{} \\n\\t{} \\n\\t{}]'.format(label, printTree([t[1][0]]), printTree([t[1][1]]))\n",
    "    \n",
    "print(printTree(final_perspectives[1]))"
   ]
  },
  {
   "cell_type": "code",
   "execution_count": null,
   "metadata": {},
   "outputs": [],
   "source": [
    "#Gives the height of a tree, for those from perspective\n",
    "def treeHeight(tree):\n",
    "    if type(tree) == str:\n",
    "        return 0\n",
    "    if len(tree) == 1:\n",
    "        if type(tree[0]) == str:\n",
    "            return 0\n",
    "    return 1+max([treeHeight(_[1]) for _ in tree])\n",
    "    #return max([(0 if len(_) == 1 else max(treeHeight(__) for __ in _[1]) if (type(_) == list) else 0) for _ in tree]) + 1\n",
    "\n",
    "#i = -10\n",
    "#print(final_perspectives[0])#(perspectives[i])\n",
    "#treeHeight(final_perspectives[0])#(perspectives[i])"
   ]
  },
  {
   "cell_type": "code",
   "execution_count": null,
   "metadata": {},
   "outputs": [],
   "source": [
    "for matchLabel, matchSets in matches.items():\n",
    "    for matchSet in matchSets:\n",
    "        print(\"{} :- {}\".format(matchLabel, matchSet))\n",
    "        subset = inp[matchSet[0]:matchSet[1]]\n",
    "        print(inp[:matchSet[0]] + [[matchLabel, subset]] + inp[matchSet[1]:])\n",
    "\n",
    "#subset = inp[matches[matchLabel][0][0]:matches[matchLabel][0][1]]\n",
    "#print(inp[:matches[matchLabel][0][0]] + [[matchLabel, subset]] + inp[matches[matchLabel][0][1]:])\n"
   ]
  },
  {
   "cell_type": "code",
   "execution_count": null,
   "metadata": {},
   "outputs": [],
   "source": [
    "from ete2 import Tree\n",
    "t = Tree( \"((a,b),c);\" )\n",
    "t.render(\"mytree.png\", w=183, units=\"mm\")"
   ]
  },
  {
   "cell_type": "code",
   "execution_count": null,
   "metadata": {},
   "outputs": [],
   "source": []
  }
 ],
 "metadata": {
  "kernelspec": {
   "display_name": "Python 3",
   "language": "python",
   "name": "python3"
  },
  "language_info": {
   "codemirror_mode": {
    "name": "ipython",
    "version": 3
   },
   "file_extension": ".py",
   "mimetype": "text/x-python",
   "name": "python",
   "nbconvert_exporter": "python",
   "pygments_lexer": "ipython3",
   "version": "3.6.5"
  }
 },
 "nbformat": 4,
 "nbformat_minor": 2
}
